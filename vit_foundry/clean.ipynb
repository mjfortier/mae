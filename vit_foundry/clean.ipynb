{
 "cells": [
  {
   "cell_type": "code",
   "execution_count": 1,
   "metadata": {},
   "outputs": [],
   "source": [
    "import os\n",
    "import numpy as np\n",
    "import pandas as pd\n",
    "from datetime import datetime"
   ]
  },
  {
   "cell_type": "code",
   "execution_count": 2,
   "metadata": {},
   "outputs": [],
   "source": [
    "df_met = pd.read_csv('scotty_creek_met.csv')\n",
    "\n",
    "df_met['doy'] = df_met['DATE'].apply(lambda x: datetime.strptime(x, '%d-%m-%Y %H:%M').timetuple().tm_yday)\n",
    "df_met['year'] = df_met['DATE'].apply(lambda x: datetime.strptime(x, '%d-%m-%Y %H:%M').year)\n",
    "\n",
    "def transform_met_hour(date):\n",
    "    dt = datetime.strptime(date, '%d-%m-%Y %H:%M')\n",
    "    timestep = dt.hour * 2\n",
    "    timestep += 1 if dt.minute == 30 else 0\n",
    "    return timestep\n",
    "\n",
    "df_met['minutes'] = df_met['DATE'].apply(transform_met_hour)\n",
    "df_met['minutes'][:30]\n",
    "df_met = df_met.drop('DATE', axis=1)"
   ]
  },
  {
   "cell_type": "code",
   "execution_count": 3,
   "metadata": {},
   "outputs": [
    {
     "name": "stdout",
     "output_type": "stream",
     "text": [
      "WS\n",
      "WD\n",
      "VP\n",
      "SWI\n",
      "SWO\n",
      "LWI\n",
      "LWO\n",
      "NetRad\n",
      "Albedo\n",
      "AirTemp\n",
      "RH\n",
      "VPD\n",
      "Snow\n",
      "Precip\n",
      "SoilTemp\n",
      "SoilMoist\n",
      "doy\n",
      "minutes\n"
     ]
    }
   ],
   "source": [
    "df_met.columns\n",
    "cyclical_variables = ['WD', 'doy', 'minutes']\n",
    "\n",
    "for c in df_met.columns:\n",
    "    if c == 'year':\n",
    "        continue\n",
    "    print(c)\n",
    "    min_value = min(df_met[c].dropna())\n",
    "    max_value = max(df_met[c].dropna())\n",
    "    v_range = max_value - min_value\n",
    "    v_mid = (max_value + min_value) / 2\n",
    "    if c in cyclical_variables:\n",
    "        v_range /= 2\n",
    "    df_met[c] = (df_met[c] - v_mid)/ v_range"
   ]
  },
  {
   "cell_type": "code",
   "execution_count": 4,
   "metadata": {},
   "outputs": [],
   "source": [
    "df_met.to_csv('scotty_creek_met_processed.csv', index=False)"
   ]
  },
  {
   "cell_type": "code",
   "execution_count": 5,
   "metadata": {},
   "outputs": [],
   "source": [
    "df_flux = pd.read_csv('scotty_creek_flux.csv')\n",
    "\n",
    "df_flux['doy'] = df_flux['datetime'].apply(lambda x: datetime.strptime(x, '%Y-%m-%d %H:%M').timetuple().tm_yday)\n",
    "df_flux['year'] = df_flux['datetime'].apply(lambda x: datetime.strptime(x, '%Y-%m-%d %H:%M').year)\n",
    "\n",
    "def transform_met_hour(date):\n",
    "    dt = datetime.strptime(date, '%Y-%m-%d %H:%M')\n",
    "    timestep = dt.hour * 2\n",
    "    timestep += 1 if dt.minute == 30 else 0\n",
    "    return timestep\n",
    "\n",
    "df_flux['minutes'] = df_flux['datetime'].apply(transform_met_hour)\n",
    "df_flux['minutes'][:30]\n",
    "df_flux = df_flux.drop('datetime', axis=1)"
   ]
  },
  {
   "cell_type": "code",
   "execution_count": 6,
   "metadata": {},
   "outputs": [
    {
     "name": "stdout",
     "output_type": "stream",
     "text": [
      "doy\n",
      "minutes\n"
     ]
    }
   ],
   "source": [
    "\n",
    "cyclical_variables = ['doy', 'minutes']\n",
    "\n",
    "for c in ['doy', 'minutes']:\n",
    "    print(c)\n",
    "    min_value = min(df_flux[c].dropna())\n",
    "    max_value = max(df_flux[c].dropna())\n",
    "    v_range = max_value - min_value\n",
    "    v_mid = (max_value + min_value) / 2\n",
    "    v_range /= 2\n",
    "    df_flux[c] = (df_flux[c] - v_mid)/ v_range"
   ]
  },
  {
   "cell_type": "code",
   "execution_count": 7,
   "metadata": {},
   "outputs": [],
   "source": [
    "df_flux.to_csv('scotty_creek_flux_processed.csv', index=False)"
   ]
  }
 ],
 "metadata": {
  "kernelspec": {
   "display_name": "scratch",
   "language": "python",
   "name": "python3"
  },
  "language_info": {
   "codemirror_mode": {
    "name": "ipython",
    "version": 3
   },
   "file_extension": ".py",
   "mimetype": "text/x-python",
   "name": "python",
   "nbconvert_exporter": "python",
   "pygments_lexer": "ipython3",
   "version": "3.9.18"
  }
 },
 "nbformat": 4,
 "nbformat_minor": 2
}
